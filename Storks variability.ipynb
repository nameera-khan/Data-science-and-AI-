{
 "cells": [
  {
   "attachments": {},
   "cell_type": "markdown",
   "id": "ed74a161-3a77-4f6f-b4c0-140a7e2034eb",
   "metadata": {},
   "source": [
    "# Statistics for Artificial Intelligence and Data Science \n"
   ]
  },
  {
   "cell_type": "markdown",
   "id": "fa6bdd48-82f3-4f2d-b7e7-3c24fb2fe3ef",
   "metadata": {},
   "source": [
    "The aim of this analysis is to analyse the variability of the regression models by interchanging the predictor variables from the 'storks-humans' dataset.  \n",
    "\n",
    "#### Analysis 1A\n",
    "   - Model 1 (Predictor - Storks)\n",
    "      1. Exploratory analysis of variables \n",
    "      2. Correlation between the predictor and target\n",
    "      3. Regression fit and residuals\n",
    "      4. Coefficient of determination\n",
    "   \n",
    "   - Model 2 (Predictor - Humans)\n",
    "      1. Exploratory analysis of variables \n",
    "      2. Correlation between the predictor and target\n",
    "      3. Regression fit and residuals\n",
    "      4. Coefficient of determination\n",
    "\n",
    "#### Analysis 1B\n",
    "   1. Bootstrap function definition\n",
    "   2. Regression function definition\n",
    "   3. Plotting R^2 difference \n",
    "   4. Estimating appropriate Confidence interval\n",
    "   4. Determining variability of models \n",
    "\n",
    "#### Analysis 2A\n",
    "   - Model 1 (Predictor- Land area)\n",
    "      1. Correlation between the predictor and target\n",
    "      2. Regression fit and residuals\n",
    "      3. Root mean squared error\n",
    "      \n",
    "   - Model 2 (Predictor - Suitable area percent, population density)\n",
    "      1. Correlation between the predictor and target\n",
    "      2. Regression fit and residuals\n",
    "      3. Root mean squared error\n",
    "      \n",
    "#### Analysis 2B\n",
    "   1. Regression function definition\n",
    "   2. Plotting RMSE difference \n",
    "   3. Estimating appropriate Confidence interval\n",
    "   4. Determining variability of models \n",
    "\n",
    "#### Summary"
   ]
  },
  {
   "cell_type": "markdown",
   "id": "61616367-d92b-4abe-8dec-4341de21152b",
   "metadata": {},
   "source": [
    "## Analysis 1A"
   ]
  },
  {
   "cell_type": "markdown",
   "id": "cc7aba25-e208-43cf-aec2-88af4a36f24e",
   "metadata": {},
   "source": [
    "### Model 1\n",
    "\n",
    "### 1. Exploratory data analysis of variables"
   ]
  },
  {
   "cell_type": "code",
   "execution_count": 1,
   "id": "1e8eaa4b-a7b8-49d8-835b-27e23195055f",
   "metadata": {},
   "outputs": [],
   "source": [
    "#Import necessary modules for data analysis\n",
    "import numpy as np\n",
    "import pandas as pd\n",
    "import matplotlib.pyplot as plt\n",
    "import seaborn as sns\n",
    "\n",
    "#import necessary modules for prediction\n",
    "from sklearn.linear_model import LinearRegression\n",
    "\n",
    "\n",
    "from sklearn.metrics import mean_squared_error"
   ]
  },
  {
   "cell_type": "code",
   "execution_count": 2,
   "id": "12b32fec-ad8a-4ebd-bdab-58bef2d53b92",
   "metadata": {},
   "outputs": [
    {
     "data": {
      "text/html": [
       "<div>\n",
       "<style scoped>\n",
       "    .dataframe tbody tr th:only-of-type {\n",
       "        vertical-align: middle;\n",
       "    }\n",
       "\n",
       "    .dataframe tbody tr th {\n",
       "        vertical-align: top;\n",
       "    }\n",
       "\n",
       "    .dataframe thead th {\n",
       "        text-align: right;\n",
       "    }\n",
       "</style>\n",
       "<table border=\"1\" class=\"dataframe\">\n",
       "  <thead>\n",
       "    <tr style=\"text-align: right;\">\n",
       "      <th></th>\n",
       "      <th>Country</th>\n",
       "      <th>Area</th>\n",
       "      <th>Storks</th>\n",
       "      <th>Humans</th>\n",
       "      <th>BirthRate</th>\n",
       "      <th>SuitableAreaPercent</th>\n",
       "    </tr>\n",
       "  </thead>\n",
       "  <tbody>\n",
       "    <tr>\n",
       "      <th>0</th>\n",
       "      <td>Albania</td>\n",
       "      <td>28750</td>\n",
       "      <td>100</td>\n",
       "      <td>3.2</td>\n",
       "      <td>83</td>\n",
       "      <td>55.68</td>\n",
       "    </tr>\n",
       "    <tr>\n",
       "      <th>1</th>\n",
       "      <td>Austria</td>\n",
       "      <td>83860</td>\n",
       "      <td>300</td>\n",
       "      <td>7.6</td>\n",
       "      <td>87</td>\n",
       "      <td>38.34</td>\n",
       "    </tr>\n",
       "    <tr>\n",
       "      <th>2</th>\n",
       "      <td>Belgium</td>\n",
       "      <td>30520</td>\n",
       "      <td>1</td>\n",
       "      <td>9.9</td>\n",
       "      <td>118</td>\n",
       "      <td>65.93</td>\n",
       "    </tr>\n",
       "    <tr>\n",
       "      <th>3</th>\n",
       "      <td>Bulgaria</td>\n",
       "      <td>111000</td>\n",
       "      <td>5000</td>\n",
       "      <td>9.0</td>\n",
       "      <td>117</td>\n",
       "      <td>57.99</td>\n",
       "    </tr>\n",
       "    <tr>\n",
       "      <th>4</th>\n",
       "      <td>Denmark</td>\n",
       "      <td>43100</td>\n",
       "      <td>9</td>\n",
       "      <td>5.1</td>\n",
       "      <td>59</td>\n",
       "      <td>81.46</td>\n",
       "    </tr>\n",
       "    <tr>\n",
       "      <th>5</th>\n",
       "      <td>France</td>\n",
       "      <td>544000</td>\n",
       "      <td>140</td>\n",
       "      <td>56.0</td>\n",
       "      <td>774</td>\n",
       "      <td>58.47</td>\n",
       "    </tr>\n",
       "    <tr>\n",
       "      <th>6</th>\n",
       "      <td>Germany</td>\n",
       "      <td>357000</td>\n",
       "      <td>3300</td>\n",
       "      <td>78.0</td>\n",
       "      <td>901</td>\n",
       "      <td>59.81</td>\n",
       "    </tr>\n",
       "    <tr>\n",
       "      <th>7</th>\n",
       "      <td>Greece</td>\n",
       "      <td>132000</td>\n",
       "      <td>2500</td>\n",
       "      <td>10.0</td>\n",
       "      <td>106</td>\n",
       "      <td>47.31</td>\n",
       "    </tr>\n",
       "    <tr>\n",
       "      <th>8</th>\n",
       "      <td>Holland</td>\n",
       "      <td>41900</td>\n",
       "      <td>4</td>\n",
       "      <td>15.0</td>\n",
       "      <td>188</td>\n",
       "      <td>70.96</td>\n",
       "    </tr>\n",
       "    <tr>\n",
       "      <th>9</th>\n",
       "      <td>Hungary</td>\n",
       "      <td>93000</td>\n",
       "      <td>5000</td>\n",
       "      <td>11.0</td>\n",
       "      <td>124</td>\n",
       "      <td>75.86</td>\n",
       "    </tr>\n",
       "    <tr>\n",
       "      <th>10</th>\n",
       "      <td>Italy</td>\n",
       "      <td>301280</td>\n",
       "      <td>5</td>\n",
       "      <td>57.0</td>\n",
       "      <td>551</td>\n",
       "      <td>60.30</td>\n",
       "    </tr>\n",
       "    <tr>\n",
       "      <th>11</th>\n",
       "      <td>Poland</td>\n",
       "      <td>312680</td>\n",
       "      <td>30000</td>\n",
       "      <td>38.0</td>\n",
       "      <td>610</td>\n",
       "      <td>64.09</td>\n",
       "    </tr>\n",
       "    <tr>\n",
       "      <th>12</th>\n",
       "      <td>Portugal</td>\n",
       "      <td>92390</td>\n",
       "      <td>1500</td>\n",
       "      <td>10.0</td>\n",
       "      <td>120</td>\n",
       "      <td>52.51</td>\n",
       "    </tr>\n",
       "    <tr>\n",
       "      <th>13</th>\n",
       "      <td>Romania</td>\n",
       "      <td>237500</td>\n",
       "      <td>5000</td>\n",
       "      <td>23.0</td>\n",
       "      <td>367</td>\n",
       "      <td>62.49</td>\n",
       "    </tr>\n",
       "    <tr>\n",
       "      <th>14</th>\n",
       "      <td>Spain</td>\n",
       "      <td>504750</td>\n",
       "      <td>8000</td>\n",
       "      <td>39.0</td>\n",
       "      <td>439</td>\n",
       "      <td>59.57</td>\n",
       "    </tr>\n",
       "    <tr>\n",
       "      <th>15</th>\n",
       "      <td>Switzerland</td>\n",
       "      <td>41290</td>\n",
       "      <td>150</td>\n",
       "      <td>6.7</td>\n",
       "      <td>82</td>\n",
       "      <td>43.19</td>\n",
       "    </tr>\n",
       "    <tr>\n",
       "      <th>16</th>\n",
       "      <td>Turkey</td>\n",
       "      <td>779450</td>\n",
       "      <td>25000</td>\n",
       "      <td>56.0</td>\n",
       "      <td>1576</td>\n",
       "      <td>65.97</td>\n",
       "    </tr>\n",
       "  </tbody>\n",
       "</table>\n",
       "</div>"
      ],
      "text/plain": [
       "        Country    Area  Storks  Humans  BirthRate  SuitableAreaPercent\n",
       "0       Albania   28750     100     3.2         83                55.68\n",
       "1       Austria   83860     300     7.6         87                38.34\n",
       "2       Belgium   30520       1     9.9        118                65.93\n",
       "3      Bulgaria  111000    5000     9.0        117                57.99\n",
       "4       Denmark   43100       9     5.1         59                81.46\n",
       "5        France  544000     140    56.0        774                58.47\n",
       "6       Germany  357000    3300    78.0        901                59.81\n",
       "7        Greece  132000    2500    10.0        106                47.31\n",
       "8       Holland   41900       4    15.0        188                70.96\n",
       "9       Hungary   93000    5000    11.0        124                75.86\n",
       "10        Italy  301280       5    57.0        551                60.30\n",
       "11       Poland  312680   30000    38.0        610                64.09\n",
       "12     Portugal   92390    1500    10.0        120                52.51\n",
       "13      Romania  237500    5000    23.0        367                62.49\n",
       "14        Spain  504750    8000    39.0        439                59.57\n",
       "15  Switzerland   41290     150     6.7         82                43.19\n",
       "16       Turkey  779450   25000    56.0       1576                65.97"
      ]
     },
     "execution_count": 2,
     "metadata": {},
     "output_type": "execute_result"
    }
   ],
   "source": [
    "#import dataset into pandas dataframe\n",
    "df = pd.read_csv('storks.csv')\n",
    "df"
   ]
  },
  {
   "cell_type": "code",
   "execution_count": 3,
   "id": "d60a26ac-b051-449b-bec3-cd96dfb64c36",
   "metadata": {},
   "outputs": [
    {
     "data": {
      "image/png": "[encoded data removed]",
      "text/plain": [
       "<Figure size 432x288 with 1 Axes>"
      ]
     },
     "metadata": {
      "needs_background": "light"
     },
     "output_type": "display_data"
    }
   ],
   "source": [
    "#Visualising the distribution for the predictor variable - Storks\n",
    "sns.histplot(df['Storks'],bins = 10)\n",
    "plt.axvline(df.Storks.median(), color='k', linestyle = 'dashed', linewidth= 1, label = 'median')\n",
    "plt.axvline(df.Storks.mean(), color = 'k', linestyle = 'solid', linewidth = 1, label = 'mean')\n",
    "plt.xlabel('Storks')\n",
    "plt.ylabel('Count')\n",
    "plt.legend(loc = 'upper right')\n",
    "plt.title('Pair of storks count')\n",
    "plt.show()"
   ]
  },
  {
   "cell_type": "markdown",
   "id": "5e2ad03b-2ff4-48fd-9c19-5e483afd37f9",
   "metadata": {},
   "source": [
    "By visualising the distribution of the numbers of pairs of storks,the data is positively skewed. We can discern from this distibution that majority of the countries from the dataset (over 10 countries) are home grounds to a maximum of 5000 pairs of storks. While there 4 countries with almost 10000 and 2 countries that house 25000 and 30000 stork pairs.  "
   ]
  },
  {
   "cell_type": "code",
   "execution_count": 4,
   "id": "c6236a07-c2da-4622-881a-748394aef3cb",
   "metadata": {},
   "outputs": [
    {
     "data": {
      "image/png": "[encoded data removed]",
      "text/plain": [
       "<Figure size 432x288 with 1 Axes>"
      ]
     },
     "metadata": {
      "needs_background": "light"
     },
     "output_type": "display_data"
    }
   ],
   "source": [
    "#Visualising the distribution for the target variable - Birth rate \n",
    "sns.histplot(df['BirthRate'],bins = 10)\n",
    "plt.axvline(df.BirthRate.median(), color='k', linestyle = 'dashed', linewidth= 1, label = 'median')\n",
    "plt.axvline(df.BirthRate.mean(), color = 'k', linestyle = 'solid', linewidth = 1, label = 'mean')\n",
    "plt.xlabel('Birth rate')\n",
    "plt.ylabel('Count')\n",
    "plt.title('Birth rate count')\n",
    "plt.legend(loc = 'upper right')\n",
    "plt.show()"
   ]
  },
  {
   "cell_type": "markdown",
   "id": "f68901bd-ddf2-4cc8-b0a3-11edc82db257",
   "metadata": {},
   "source": [
    "The distribution for birth rate count is also positively skewed, although there seems to be a distorted distribution in the count. Countries with the lowest birth rate are higher in number (almost 10 countries) in comparison to the countries with the highest birth rate count (1 country). \n",
    "\n",
    "One would assume from the distributions that both the variables are moving in the same direction. To make sense of this observation, we can plot a scatter plot matrix."
   ]
  },
  {
   "cell_type": "markdown",
   "id": "d74a6521-7cba-4527-a1ae-6f046843335a",
   "metadata": {},
   "source": [
    "### 2. Correlation between predictor and target"
   ]
  },
  {
   "cell_type": "code",
   "execution_count": 5,
   "id": "8852aac2-9d31-45c1-8e86-f488928a1330",
   "metadata": {},
   "outputs": [
    {
     "data": {
      "image/png": "[encoded data removed]",
      "text/plain": [
       "<Figure size 360x360 with 6 Axes>"
      ]
     },
     "metadata": {
      "needs_background": "light"
     },
     "output_type": "display_data"
    }
   ],
   "source": [
    "#scatter plot matrix to visualise the movement of the 2 variables\n",
    "sns.pairplot(df[['Storks','BirthRate']])\n",
    "plt.show()"
   ]
  },
  {
   "cell_type": "code",
   "execution_count": 6,
   "id": "8ad045bc-5300-47e1-b76e-d9987df2d241",
   "metadata": {},
   "outputs": [
    {
     "data": {
      "image/png": "[encoded data removed]",
      "text/plain": [
       "<Figure size 576x360 with 2 Axes>"
      ]
     },
     "metadata": {
      "needs_background": "light"
     },
     "output_type": "display_data"
    }
   ],
   "source": [
    "#plotting a heatmap with Pearson correlation coefficient\n",
    "fig,ax = plt.subplots(1,1, figsize=(8,5))\n",
    "sns.heatmap(df[['Storks','BirthRate']].corr(), vmin=-1, vmax=1, cmap=sns.diverging_palette(20, 220, as_cmap=True), \n",
    "            annot=True, ax=ax, annot_kws={\"size\": 15})\n",
    "plt.title('Correlation between Storks and Birth rate')\n",
    "plt.show()"
   ]
  },
  {
   "cell_type": "markdown",
   "id": "1f900213-9600-4d65-81b5-d7588b0388e0",
   "metadata": {},
   "source": [
    "The heatmap proves the positive correlation between the 2 variable, with a correlation coefficient of 0.62. This nudges us towards a possibility that an increase in the number of storks would also result in an increase in the birth rate of a given country. However, to explain the variability of birth rates in the countries of the dataset, we can perform a regression on 'Storks' and 'Birth rate'"
   ]
  },
  {
   "cell_type": "markdown",
   "id": "b769d4e8-8ca5-46f6-8b79-f02776b8ce78",
   "metadata": {},
   "source": [
    "### 3. Regression fit and residuals"
   ]
  },
  {
   "cell_type": "code",
   "execution_count": 7,
   "id": "540391e0-56d1-43ad-938c-2d6c161a11fc",
   "metadata": {},
   "outputs": [],
   "source": [
    "#Splitting the dataset into predictor and target\n",
    "X = np.array(df['Storks']).reshape(-1,1)\n",
    "y = df['BirthRate']\n",
    "\n",
    "#instantiating the regression model to fit the predictor and target\n",
    "reg = LinearRegression().fit(X,y)\n"
   ]
  },
  {
   "cell_type": "code",
   "execution_count": 8,
   "id": "0a363e30-c0a9-4f6a-9526-ff77fd9d857a",
   "metadata": {},
   "outputs": [
    {
     "data": {
      "text/plain": [
       "Text(0, 0.5, 'Actual Value')"
      ]
     },
     "execution_count": 8,
     "metadata": {},
     "output_type": "execute_result"
    },
    {
     "data": {
      "image/png": "[encoded data removed]",
      "text/plain": [
       "<Figure size 1080x720 with 1 Axes>"
      ]
     },
     "metadata": {
      "needs_background": "light"
     },
     "output_type": "display_data"
    }
   ],
   "source": [
    "#plot a regression line to display the values predicted by the model vs actual values\n",
    "y_pred = reg.predict(X)\n",
    "residuals = y_pred - y\n",
    "\n",
    "fig, a = plt.subplots(1,1,figsize=(15,10))\n",
    "a.scatter(y_pred, y,  color='black')\n",
    "a.plot(y_pred, y_pred, color='red', linewidth=3)\n",
    "\n",
    "\n",
    "two_std = residuals.std() * 2\n",
    "a.errorbar(y_pred, y, yerr=two_std, fmt='.k')\n",
    "\n",
    "a.set_xlabel('Predicted Value')\n",
    "a.set_ylabel('Actual Value')"
   ]
  },
  {
   "cell_type": "markdown",
   "id": "1003921a-5bbc-4b2c-976a-f4c5356f40c7",
   "metadata": {},
   "source": [
    "### 4. Coefficient of determination"
   ]
  },
  {
   "cell_type": "code",
   "execution_count": 9,
   "id": "96da25b5-4eba-47d2-80de-ba3473115644",
   "metadata": {},
   "outputs": [
    {
     "name": "stdout",
     "output_type": "stream",
     "text": [
      "The R^2 coefficient of determination is 0.385\n"
     ]
    }
   ],
   "source": [
    "print('The R^2 coefficient of determination is %4.3f' % reg.score(X, y))\n"
   ]
  },
  {
   "cell_type": "markdown",
   "id": "9ffe98a7-c51e-4e1a-aead-2a1a98d5253f",
   "metadata": {},
   "source": [
    "**Discussion**\n",
    "\n",
    "- The R^2 coefficient is also known as coefficient of determination. It usually ranges from 0 to 1, where 0 describes the least variability of the model and 1 with the most variability.\n",
    "- The R^2 coefficient with the 'Storks' as a predictor explains 38.5% variability in the birth rate of the countries in the dataset.\n",
    "\n",
    "- As per our results with the R^2 coefficient, the regression plot above supports the claim. \n",
    "- It is evident that although there seems to be a positive correlation between the actual value and the predicted value of the model, we can see that regression line does not explain the scatter plot. \n",
    "- The error bars on the data points explicitly show the distance between the predicted and the actual value, thus proving that the model does not explain more than 50% of the data for the given predictor."
   ]
  },
  {
   "cell_type": "markdown",
   "id": "14d6384d-376a-45c1-be7b-4a71c6a306d9",
   "metadata": {},
   "source": [
    "### Model 2 "
   ]
  },
  {
   "cell_type": "markdown",
   "id": "44fb166f-b374-48f8-a71e-eae062114377",
   "metadata": {},
   "source": [
    "### 1. Exploratory data analysis of variables"
   ]
  },
  {
   "cell_type": "code",
   "execution_count": 10,
   "id": "137bb299-7dae-4398-b7d9-0ab8930cb7da",
   "metadata": {},
   "outputs": [
    {
     "data": {
      "image/png": "[encoded data removed]",
      "text/plain": [
       "<Figure size 432x288 with 1 Axes>"
      ]
     },
     "metadata": {
      "needs_background": "light"
     },
     "output_type": "display_data"
    }
   ],
   "source": [
    "#Visualising the distribution for the predictor variable - Storks\n",
    "sns.histplot(df['Humans'],bins = 10)\n",
    "plt.axvline(df.Humans.median(), color='k', linestyle = 'dashed', linewidth= 1, label = 'median')\n",
    "plt.axvline(df.Humans.mean(), color = 'k', linestyle = 'solid', linewidth = 1, label = 'mean')\n",
    "plt.xlabel('Humans')\n",
    "plt.ylabel('Count')\n",
    "plt.legend(loc = 'upper right')\n",
    "plt.title('Humans count')\n",
    "plt.show()"
   ]
  },
  {
   "cell_type": "markdown",
   "id": "7a8d14d4-7265-41fe-9cad-4ca4d9a4063b",
   "metadata": {},
   "source": [
    "### 2. Correlation between predictor and target"
   ]
  },
  {
   "cell_type": "code",
   "execution_count": 11,
   "id": "2230cb57-15e3-4a68-b710-21b765b20632",
   "metadata": {},
   "outputs": [
    {
     "data": {
      "image/png": "[encoded data removed]",
      "text/plain": [
       "<Figure size 576x360 with 2 Axes>"
      ]
     },
     "metadata": {
      "needs_background": "light"
     },
     "output_type": "display_data"
    }
   ],
   "source": [
    "#plotting a heatmap with Pearson correlation coefficient\n",
    "fig,ax = plt.subplots(1,1, figsize=(8,5))\n",
    "sns.heatmap(df[['Humans','BirthRate']].corr(), vmin=-1, vmax=1, cmap=sns.diverging_palette(20, 220, as_cmap=True), \n",
    "            annot=True, ax=ax, annot_kws={\"size\": 15})\n",
    "plt.title('Correlation between Humans and Birth rate')\n",
    "plt.show()"
   ]
  },
  {
   "cell_type": "markdown",
   "id": "683efd7c-2282-4fab-9352-e70ef5d37552",
   "metadata": {},
   "source": [
    "### 3. Regression fit and residuals"
   ]
  },
  {
   "cell_type": "code",
   "execution_count": 12,
   "id": "224509ce-c392-4e3c-9c18-f3d1b2caf14e",
   "metadata": {},
   "outputs": [],
   "source": [
    "#Splitting the dataset df into predictor- Humans and target- birth rate\n",
    "X_2 = np.array(df['Humans']).reshape(-1,1)\n",
    "y_2 = df['BirthRate']"
   ]
  },
  {
   "cell_type": "code",
   "execution_count": 13,
   "id": "c3ca97c7-1351-472f-ade6-d55eabc298e9",
   "metadata": {},
   "outputs": [],
   "source": [
    "#instantiating the regression model to fit the predictor and target\n",
    "reg2 = LinearRegression().fit(X_2,y_2)\n"
   ]
  },
  {
   "cell_type": "code",
   "execution_count": 14,
   "id": "a4c8aba2-21e5-4141-90f1-c4c2a2651f01",
   "metadata": {},
   "outputs": [
    {
     "data": {
      "text/plain": [
       "Text(0, 0.5, 'Actual Value')"
      ]
     },
     "execution_count": 14,
     "metadata": {},
     "output_type": "execute_result"
    },
    {
     "data": {
      "image/png": "[encoded data removed]",
      "text/plain": [
       "<Figure size 1080x720 with 1 Axes>"
      ]
     },
     "metadata": {
      "needs_background": "light"
     },
     "output_type": "display_data"
    }
   ],
   "source": [
    "#plotting the predicted values vs actual values for humans and birth rate\n",
    "y_pred2 = reg2.predict(X_2)\n",
    "\n",
    "residuals_2=(y_pred2 - y_2)\n",
    "\n",
    "fig, a = plt.subplots(1,1,figsize=(15,10))\n",
    "a.scatter(y_pred2, y_2,  color='black')\n",
    "a.plot(y_pred2, y_pred2, color='blue', linewidth=3)\n",
    "\n",
    "\n",
    "two_std = residuals_2.std() * 2\n",
    "a.errorbar(y_pred2, y_2, yerr=two_std, fmt='.k')\n",
    "\n",
    "a.set_xlabel('Predicted Value')\n",
    "a.set_ylabel('Actual Value')"
   ]
  },
  {
   "cell_type": "markdown",
   "id": "704c75ca-7f6a-47b2-9724-84752ae6ea07",
   "metadata": {},
   "source": [
    "### 4. Coefficient of determination"
   ]
  },
  {
   "cell_type": "code",
   "execution_count": 15,
   "id": "88390271-9539-41cc-99cb-e4c73441b85d",
   "metadata": {},
   "outputs": [
    {
     "name": "stdout",
     "output_type": "stream",
     "text": [
      "The R2 coefficient of determination is 0.725\n"
     ]
    }
   ],
   "source": [
    "print('The R2 coefficient of determination is %4.3f' % reg2.score(X_2, y_2))"
   ]
  },
  {
   "cell_type": "code",
   "execution_count": 16,
   "id": "b9f009bd-c671-44ed-9405-2ce4331a094f",
   "metadata": {},
   "outputs": [
    {
     "data": {
      "text/html": [
       "<div>\n",
       "<style scoped>\n",
       "    .dataframe tbody tr th:only-of-type {\n",
       "        vertical-align: middle;\n",
       "    }\n",
       "\n",
       "    .dataframe tbody tr th {\n",
       "        vertical-align: top;\n",
       "    }\n",
       "\n",
       "    .dataframe thead th {\n",
       "        text-align: right;\n",
       "    }\n",
       "</style>\n",
       "<table border=\"1\" class=\"dataframe\">\n",
       "  <thead>\n",
       "    <tr style=\"text-align: right;\">\n",
       "      <th></th>\n",
       "      <th>Storks</th>\n",
       "      <th>Humans</th>\n",
       "    </tr>\n",
       "  </thead>\n",
       "  <tbody>\n",
       "    <tr>\n",
       "      <th>0</th>\n",
       "      <td>0.028794</td>\n",
       "      <td>14.834445</td>\n",
       "    </tr>\n",
       "  </tbody>\n",
       "</table>\n",
       "</div>"
      ],
      "text/plain": [
       "     Storks     Humans\n",
       "0  0.028794  14.834445"
      ]
     },
     "execution_count": 16,
     "metadata": {},
     "output_type": "execute_result"
    }
   ],
   "source": [
    "#comparing the effect of coefficients on birth rate\n",
    "coeff_parameters= pd.DataFrame(reg.coef_).T\n",
    "coeff_parameters.columns = ['Storks']\n",
    "\n",
    "coeff_parameters['Humans'] = reg2.coef_\n",
    "coeff_parameters"
   ]
  },
  {
   "cell_type": "markdown",
   "id": "e39fb0fe-1519-4da9-9515-39e26be6aa4b",
   "metadata": {},
   "source": [
    "**Discussion**\n",
    "\n",
    "- The R^2 coefficient for 'Model 2' with 'Humans' as the predictor generates a variability of about 72.5%\n",
    "- The regression line shows a strong positive relationship between the 2 variables by explaining 72.5% of the data. \n",
    "- There does seem to be a substantiate evidence of the correlation, however, the model exhibits error at higher predicted values of the data. \n",
    "\n",
    "- As already discussed on the effect of the predictors on the target variable 'BirthRate', we can see the difference in their coefficients.\n",
    "- The model with 'Humans' as predictors has a coefficient that is higher than the model with 'Storks' by  199.225%. \n",
    "- From a logical point of view, it is only fair the model predicts so since the birth rate points to human babies. "
   ]
  },
  {
   "cell_type": "markdown",
   "id": "58427639-7207-4e3b-93cb-e81ca6459add",
   "metadata": {},
   "source": [
    "## Analysis 1B"
   ]
  },
  {
   "cell_type": "markdown",
   "id": "5149f1df-b09a-4dbe-9368-8bc85d098f69",
   "metadata": {},
   "source": [
    "A bootstrap sample is a sample taken from the observed dataset with replacement. Here, we use the bootstrap technique to resample the data with replacement and compute the difference in the R^2 values.  \n",
    "These differences are then plotted to visualise the distribution for the 2 models. "
   ]
  },
  {
   "cell_type": "markdown",
   "id": "54f11d44-4c87-4a2e-ab70-e4101167c2fb",
   "metadata": {},
   "source": [
    "### 1. Bootstrap function definition"
   ]
  },
  {
   "cell_type": "code",
   "execution_count": 17,
   "id": "a25140c8-88b2-4af7-8085-1cbb63d78649",
   "metadata": {},
   "outputs": [],
   "source": [
    "import scipy.stats as stats\n",
    "from sklearn.utils import resample\n",
    "\n",
    "#defining a function to resample the data\n",
    "def bootstrapC(data, cols, repeats, func):\n",
    "    result = pd.DataFrame(data = dict([(c, np.empty(repeats)) for c in cols]))\n",
    "        \n",
    "    for i in range(0, repeats):\n",
    "        result.iloc[i]=func(resample(data)) # default is to resample, same size\n",
    "    return result"
   ]
  },
  {
   "cell_type": "markdown",
   "id": "5333b9b0-273e-4f36-bc33-380fb6f3bafb",
   "metadata": {},
   "source": [
    "### 2. Regression function definition"
   ]
  },
  {
   "cell_type": "code",
   "execution_count": 18,
   "id": "32dee19a-c4bb-4a69-ae17-52920d108dae",
   "metadata": {},
   "outputs": [],
   "source": [
    "#defining a function to perform regression on both the models and return its difference in R^2 value\n",
    "def doRegression_diff(df):\n",
    "    y = df.BirthRate\n",
    "    X1 = np.array(df.Storks).reshape(-1,1)\n",
    "    X2 = np.array(df.Humans).reshape(-1,1)\n",
    "    \n",
    "    reg1 = LinearRegression().fit(X1,y)\n",
    "    reg2 = LinearRegression().fit(X2,y)\n",
    "    beta_storks = reg1.coef_\n",
    "    beta_humans = reg2.coef_\n",
    "    \n",
    "    return [reg2.score(X2,y) - reg1.score(X1,y)]"
   ]
  },
  {
   "cell_type": "code",
   "execution_count": 19,
   "id": "c3a6a704-259a-43ff-ba57-d33caae3be6e",
   "metadata": {},
   "outputs": [],
   "source": [
    "bstrap_diff = bootstrapC(df,['R2 difference'], 1000, doRegression_diff)\n",
    "\n",
    "bstrap_diff = pd.DataFrame(bstrap_diff,columns = ['R2 difference'])"
   ]
  },
  {
   "cell_type": "markdown",
   "id": "f85d2680-d1c3-4cdf-916a-2cd3ab6d8aac",
   "metadata": {},
   "source": [
    "### 3. Plotting R^2 difference"
   ]
  },
  {
   "cell_type": "code",
   "execution_count": 20,
   "id": "611c51f9-0f07-40a0-8035-551ef5b8ebfa",
   "metadata": {},
   "outputs": [
    {
     "data": {
      "text/plain": [
       "<matplotlib.lines.Line2D at 0x7fb2087a4fd0>"
      ]
     },
     "execution_count": 20,
     "metadata": {},
     "output_type": "execute_result"
    },
    {
     "data": {
      "image/png": "[encoded data removed]",
      "text/plain": [
       "<Figure size 432x288 with 1 Axes>"
      ]
     },
     "metadata": {
      "needs_background": "light"
     },
     "output_type": "display_data"
    }
   ],
   "source": [
    "sns.kdeplot(bstrap_diff['R2 difference'], label = 'R2 difference', alpha = 0.3, shade = True)\n",
    "plt.axvline(bstrap_diff['R2 difference'].quantile(0.025),color = 'k', linestyle = 'dashed', linewidth = 1,label = 'Average')\n",
    "plt.axvline(bstrap_diff['R2 difference'].quantile(0.975),color = 'k', linestyle = 'dashed', linewidth = 1,)\n",
    "plt.axvline(bstrap_diff['R2 difference'].mean(),color = 'k', linestyle = 'solid', linewidth = 1)\n"
   ]
  },
  {
   "cell_type": "markdown",
   "id": "3e3a361d-81c8-43f2-b3cf-622b24c96cbd",
   "metadata": {},
   "source": [
    "### 4. Estimating Confidence Interval"
   ]
  },
  {
   "cell_type": "code",
   "execution_count": 21,
   "id": "c5a286ef-b30a-4899-ac3c-9888b2ec4354",
   "metadata": {},
   "outputs": [
    {
     "name": "stdout",
     "output_type": "stream",
     "text": [
      " The confidence interval of 95 percent for the R^2 difference in model 1 and 2 is from -0.12 to 0.96 \n"
     ]
    }
   ],
   "source": [
    "print(\" The confidence interval of 95 percent for the R^2 difference in model 1 and 2 is from %3.2f to %3.2f \" % \n",
    "      ( bstrap_diff.quantile(0.025),bstrap_diff.quantile(0.975)))\n"
   ]
  },
  {
   "cell_type": "markdown",
   "id": "a1c38d80-8254-4541-90e4-e8b70c58550f",
   "metadata": {},
   "source": [
    "\n",
    "- The R^2 difference using bootstrap technique displays a bimodal distribution. \n",
    "- Since the distribution is bimodal, a confidence interval of 95% would exhibit the best results.\n",
    "- The presence of a bimodal distribution indicates the combination of the 2 groups; each with its own underlying condition. \n",
    "- Since the distribution is bimodal, it demontrates that the difference in variance of residual between the 2 models ranges between -0.12 to 0.96 with 95% confidence. \n",
    "- As we can see that 95% of values fall between -0.12 to 0.96, the number of values that contain a negative difference are approximate 8% of the bootstrap samples. \n",
    "- The negative R^2 depicts the possibility of Model 1 with a higher variability than model 2. Since the number of positive R^2 differences occupy 91.5% of the bootstrap samples, we can confirm that the model 2 explains variability better than model 1. "
   ]
  },
  {
   "cell_type": "code",
   "execution_count": 22,
   "id": "0380b5d4-da34-41b2-857f-8f4c8f6e34be",
   "metadata": {},
   "outputs": [
    {
     "data": {
      "text/plain": [
       "False    915\n",
       "True      85\n",
       "Name: R2 difference, dtype: int64"
      ]
     },
     "execution_count": 22,
     "metadata": {},
     "output_type": "execute_result"
    }
   ],
   "source": [
    "(bstrap_diff['R2 difference']< 0).value_counts()"
   ]
  },
  {
   "cell_type": "markdown",
   "id": "dd6aa4d6-26f9-4717-bcc5-f9ae57a9031b",
   "metadata": {},
   "source": [
    "## Analysis 2A"
   ]
  },
  {
   "cell_type": "markdown",
   "id": "b44776bd-5420-4655-b218-4a1c1216ed35",
   "metadata": {},
   "source": [
    "### Model 1 "
   ]
  },
  {
   "cell_type": "markdown",
   "id": "bfaccb01-b73a-479b-8e02-f72c0c6dbd68",
   "metadata": {},
   "source": [
    "In this analysis, we aim to predict the number of storks by using the land area as a predictor variable. The previous analysis aimed to predict the birth rate by using the goodness of fit measure 'R^2'. We could visualise that the bootstrapped distribution of the data was bimodal, giving rise to the interpretation that the bimodality is due to the presence of 2 models that explain variability with a vast difference. \n"
   ]
  },
  {
   "cell_type": "markdown",
   "id": "b10eae83-c9d1-432c-b0bb-f60b12205aac",
   "metadata": {},
   "source": [
    "### 1. Correlation between predictor and target"
   ]
  },
  {
   "cell_type": "code",
   "execution_count": 23,
   "id": "03ad8404-47e2-4d18-b7c8-c33c3713df4a",
   "metadata": {},
   "outputs": [
    {
     "data": {
      "text/plain": [
       "<AxesSubplot:>"
      ]
     },
     "execution_count": 23,
     "metadata": {},
     "output_type": "execute_result"
    },
    {
     "data": {
      "image/png": "[encoded data removed]",
      "text/plain": [
       "<Figure size 576x360 with 2 Axes>"
      ]
     },
     "metadata": {
      "needs_background": "light"
     },
     "output_type": "display_data"
    }
   ],
   "source": [
    "#Visualising the correlation between the predictor and target\n",
    "fig,ax = plt.subplots(1,1, figsize=(8,5))\n",
    "\n",
    "sns.heatmap(df[['Area','Storks']].corr(), vmin=-1, vmax=1, cmap=sns.diverging_palette(20, 220, as_cmap=True), \n",
    "            annot=True, ax=ax, annot_kws={\"size\": 15})"
   ]
  },
  {
   "cell_type": "markdown",
   "id": "d8b7015a-f845-43d8-9ff0-8d0be9c86afe",
   "metadata": {},
   "source": [
    "It is interesting to note that the correlation between Storks and birth rate of human babies was higher than the correlation between Storks and the land area. "
   ]
  },
  {
   "cell_type": "markdown",
   "id": "12d42eb5-2ee6-4837-aac1-527a4797dd94",
   "metadata": {},
   "source": [
    "### 2. Regression fit and residuals"
   ]
  },
  {
   "cell_type": "code",
   "execution_count": 24,
   "id": "215338d5-9b44-4d51-bc4f-cbf43faafc4a",
   "metadata": {},
   "outputs": [],
   "source": [
    "#splitting the dataset into predictor and target\n",
    "y1 = df['Storks']\n",
    "X1 = np.array(df.Area).reshape(-1,1)"
   ]
  },
  {
   "cell_type": "code",
   "execution_count": 25,
   "id": "0b07fc2a-434e-4af2-9332-00db700de4a6",
   "metadata": {},
   "outputs": [
    {
     "name": "stdout",
     "output_type": "stream",
     "text": [
      "The regression coefficient for Area is :  [0.02330737]\n",
      "The regression intercept for Model 1 is :  -60.686852327103225\n"
     ]
    }
   ],
   "source": [
    "#instantiatinf the model for the variables\n",
    "reg_m1 = LinearRegression().fit(X1,y1)\n",
    "print(\"The regression coefficient for Area is : \", format(reg_m1.coef_))\n",
    "print(\"The regression intercept for Model 1 is : \", format(reg_m1.intercept_))"
   ]
  },
  {
   "cell_type": "code",
   "execution_count": 26,
   "id": "7e7e0d4c-1001-4f1e-8e06-d49de81add9c",
   "metadata": {},
   "outputs": [
    {
     "data": {
      "text/plain": [
       "Text(0, 0.5, 'Actual Value')"
      ]
     },
     "execution_count": 26,
     "metadata": {},
     "output_type": "execute_result"
    },
    {
     "data": {
      "image/png": "[encoded data removed]",
      "text/plain": [
       "<Figure size 1080x720 with 1 Axes>"
      ]
     },
     "metadata": {
      "needs_background": "light"
     },
     "output_type": "display_data"
    }
   ],
   "source": [
    "#plotting the predictions vs actual value for stork pairs\n",
    "y_pred_m1 = reg_m1.predict(X1)\n",
    "residuals_m1 = y_pred_m1 - y1\n",
    "\n",
    "fig, a = plt.subplots(1,1,figsize=(15,10))\n",
    "a.scatter(y_pred_m1, y1,  color='black')\n",
    "a.plot(y_pred_m1, y_pred_m1, color='blue', linewidth=3)\n",
    "\n",
    "\n",
    "two_std = residuals_m1.std() * 2\n",
    "a.errorbar(y_pred_m1, y1, yerr=two_std, fmt='.k')\n",
    "\n",
    "a.set_xlabel('Predicted Value')\n",
    "a.set_ylabel('Actual Value')"
   ]
  },
  {
   "cell_type": "markdown",
   "id": "1926ea81-a101-4172-8bc9-fa2c97cdad2e",
   "metadata": {},
   "source": [
    "The regression model with Storks as a predictor performs poorly in comparison to the models from Analysis 1. This regression consists of a negative intercept. It conveys the possibility of obtaining an expected result that is less than 0 when the predictor is set to the origin. "
   ]
  },
  {
   "cell_type": "markdown",
   "id": "8d5a2555-f1c6-41d9-8643-a1f5f285170a",
   "metadata": {},
   "source": [
    "### 3. Root Mean Squared "
   ]
  },
  {
   "cell_type": "code",
   "execution_count": 27,
   "id": "404a051d-56b4-4acb-8d7a-ed430d9a65a6",
   "metadata": {},
   "outputs": [
    {
     "data": {
      "text/plain": [
       "48786968.14209523"
      ]
     },
     "execution_count": 27,
     "metadata": {},
     "output_type": "execute_result"
    }
   ],
   "source": [
    "from sklearn.metrics import mean_squared_error as mse\n",
    "\n",
    "mse_m1 = mean_squared_error(y1,y_pred_m1)\n",
    "mse_m1"
   ]
  },
  {
   "cell_type": "code",
   "execution_count": 28,
   "id": "9efcb3ea-aca8-487b-b4a0-70ad8e2b35ab",
   "metadata": {},
   "outputs": [
    {
     "name": "stdout",
     "output_type": "stream",
     "text": [
      "The RMSE for model 1 with the predictor as land area and predicted value as storks : 6984.766863832696\n"
     ]
    }
   ],
   "source": [
    "rmse_m1 = np.sqrt(mse_m1)\n",
    "print(f\"The RMSE for model 1 with the predictor as land area and predicted value as storks : {rmse_m1}\")"
   ]
  },
  {
   "cell_type": "markdown",
   "id": "53bede04-812b-418c-aa08-4af780b8716a",
   "metadata": {},
   "source": [
    "Using the Root Mean Squared Error as the metric for the regression model, we can see that the RMSE is an effectively large value. Since the errors are roots of squared values, higher errors consist of a higher weight in this metric. "
   ]
  },
  {
   "cell_type": "markdown",
   "id": "39583b92-d084-476c-b229-a97b7a6df13e",
   "metadata": {},
   "source": [
    "## Model 2"
   ]
  },
  {
   "cell_type": "markdown",
   "id": "54465a0e-dd83-4b9d-aa96-c69eda6fae9c",
   "metadata": {},
   "source": [
    "The model in this analysis uses a predictor that can be derived from 2 other columns of the dataset; 'Population density'. The predictors for Model 2 of the analysis are 'SuitableAreaPercent' and 'Population_density' and the target variable being 'Storks'"
   ]
  },
  {
   "cell_type": "markdown",
   "id": "7694835f-fffc-49f2-b68d-ec9640f32b51",
   "metadata": {},
   "source": [
    "### 1. Correlation estimation"
   ]
  },
  {
   "cell_type": "code",
   "execution_count": 29,
   "id": "974b84ac-9c06-4d82-b453-0a7aae3873b6",
   "metadata": {},
   "outputs": [],
   "source": [
    "#deriving population density\n",
    "df['Population_density'] = ((df['Humans'] * 10**6)/ df['Area']).round(2)"
   ]
  },
  {
   "cell_type": "code",
   "execution_count": 30,
   "id": "de03387c-a631-4f79-b66d-b358fc9635eb",
   "metadata": {},
   "outputs": [
    {
     "data": {
      "text/html": [
       "<div>\n",
       "<style scoped>\n",
       "    .dataframe tbody tr th:only-of-type {\n",
       "        vertical-align: middle;\n",
       "    }\n",
       "\n",
       "    .dataframe tbody tr th {\n",
       "        vertical-align: top;\n",
       "    }\n",
       "\n",
       "    .dataframe thead th {\n",
       "        text-align: right;\n",
       "    }\n",
       "</style>\n",
       "<table border=\"1\" class=\"dataframe\">\n",
       "  <thead>\n",
       "    <tr style=\"text-align: right;\">\n",
       "      <th></th>\n",
       "      <th>Country</th>\n",
       "      <th>Area</th>\n",
       "      <th>Storks</th>\n",
       "      <th>Humans</th>\n",
       "      <th>BirthRate</th>\n",
       "      <th>SuitableAreaPercent</th>\n",
       "      <th>Population_density</th>\n",
       "    </tr>\n",
       "  </thead>\n",
       "  <tbody>\n",
       "    <tr>\n",
       "      <th>0</th>\n",
       "      <td>Albania</td>\n",
       "      <td>28750</td>\n",
       "      <td>100</td>\n",
       "      <td>3.2</td>\n",
       "      <td>83</td>\n",
       "      <td>55.68</td>\n",
       "      <td>111.30</td>\n",
       "    </tr>\n",
       "    <tr>\n",
       "      <th>1</th>\n",
       "      <td>Austria</td>\n",
       "      <td>83860</td>\n",
       "      <td>300</td>\n",
       "      <td>7.6</td>\n",
       "      <td>87</td>\n",
       "      <td>38.34</td>\n",
       "      <td>90.63</td>\n",
       "    </tr>\n",
       "    <tr>\n",
       "      <th>2</th>\n",
       "      <td>Belgium</td>\n",
       "      <td>30520</td>\n",
       "      <td>1</td>\n",
       "      <td>9.9</td>\n",
       "      <td>118</td>\n",
       "      <td>65.93</td>\n",
       "      <td>324.38</td>\n",
       "    </tr>\n",
       "    <tr>\n",
       "      <th>3</th>\n",
       "      <td>Bulgaria</td>\n",
       "      <td>111000</td>\n",
       "      <td>5000</td>\n",
       "      <td>9.0</td>\n",
       "      <td>117</td>\n",
       "      <td>57.99</td>\n",
       "      <td>81.08</td>\n",
       "    </tr>\n",
       "    <tr>\n",
       "      <th>4</th>\n",
       "      <td>Denmark</td>\n",
       "      <td>43100</td>\n",
       "      <td>9</td>\n",
       "      <td>5.1</td>\n",
       "      <td>59</td>\n",
       "      <td>81.46</td>\n",
       "      <td>118.33</td>\n",
       "    </tr>\n",
       "    <tr>\n",
       "      <th>5</th>\n",
       "      <td>France</td>\n",
       "      <td>544000</td>\n",
       "      <td>140</td>\n",
       "      <td>56.0</td>\n",
       "      <td>774</td>\n",
       "      <td>58.47</td>\n",
       "      <td>102.94</td>\n",
       "    </tr>\n",
       "    <tr>\n",
       "      <th>6</th>\n",
       "      <td>Germany</td>\n",
       "      <td>357000</td>\n",
       "      <td>3300</td>\n",
       "      <td>78.0</td>\n",
       "      <td>901</td>\n",
       "      <td>59.81</td>\n",
       "      <td>218.49</td>\n",
       "    </tr>\n",
       "    <tr>\n",
       "      <th>7</th>\n",
       "      <td>Greece</td>\n",
       "      <td>132000</td>\n",
       "      <td>2500</td>\n",
       "      <td>10.0</td>\n",
       "      <td>106</td>\n",
       "      <td>47.31</td>\n",
       "      <td>75.76</td>\n",
       "    </tr>\n",
       "    <tr>\n",
       "      <th>8</th>\n",
       "      <td>Holland</td>\n",
       "      <td>41900</td>\n",
       "      <td>4</td>\n",
       "      <td>15.0</td>\n",
       "      <td>188</td>\n",
       "      <td>70.96</td>\n",
       "      <td>358.00</td>\n",
       "    </tr>\n",
       "    <tr>\n",
       "      <th>9</th>\n",
       "      <td>Hungary</td>\n",
       "      <td>93000</td>\n",
       "      <td>5000</td>\n",
       "      <td>11.0</td>\n",
       "      <td>124</td>\n",
       "      <td>75.86</td>\n",
       "      <td>118.28</td>\n",
       "    </tr>\n",
       "    <tr>\n",
       "      <th>10</th>\n",
       "      <td>Italy</td>\n",
       "      <td>301280</td>\n",
       "      <td>5</td>\n",
       "      <td>57.0</td>\n",
       "      <td>551</td>\n",
       "      <td>60.30</td>\n",
       "      <td>189.19</td>\n",
       "    </tr>\n",
       "    <tr>\n",
       "      <th>11</th>\n",
       "      <td>Poland</td>\n",
       "      <td>312680</td>\n",
       "      <td>30000</td>\n",
       "      <td>38.0</td>\n",
       "      <td>610</td>\n",
       "      <td>64.09</td>\n",
       "      <td>121.53</td>\n",
       "    </tr>\n",
       "    <tr>\n",
       "      <th>12</th>\n",
       "      <td>Portugal</td>\n",
       "      <td>92390</td>\n",
       "      <td>1500</td>\n",
       "      <td>10.0</td>\n",
       "      <td>120</td>\n",
       "      <td>52.51</td>\n",
       "      <td>108.24</td>\n",
       "    </tr>\n",
       "    <tr>\n",
       "      <th>13</th>\n",
       "      <td>Romania</td>\n",
       "      <td>237500</td>\n",
       "      <td>5000</td>\n",
       "      <td>23.0</td>\n",
       "      <td>367</td>\n",
       "      <td>62.49</td>\n",
       "      <td>96.84</td>\n",
       "    </tr>\n",
       "    <tr>\n",
       "      <th>14</th>\n",
       "      <td>Spain</td>\n",
       "      <td>504750</td>\n",
       "      <td>8000</td>\n",
       "      <td>39.0</td>\n",
       "      <td>439</td>\n",
       "      <td>59.57</td>\n",
       "      <td>77.27</td>\n",
       "    </tr>\n",
       "    <tr>\n",
       "      <th>15</th>\n",
       "      <td>Switzerland</td>\n",
       "      <td>41290</td>\n",
       "      <td>150</td>\n",
       "      <td>6.7</td>\n",
       "      <td>82</td>\n",
       "      <td>43.19</td>\n",
       "      <td>162.27</td>\n",
       "    </tr>\n",
       "    <tr>\n",
       "      <th>16</th>\n",
       "      <td>Turkey</td>\n",
       "      <td>779450</td>\n",
       "      <td>25000</td>\n",
       "      <td>56.0</td>\n",
       "      <td>1576</td>\n",
       "      <td>65.97</td>\n",
       "      <td>71.85</td>\n",
       "    </tr>\n",
       "  </tbody>\n",
       "</table>\n",
       "</div>"
      ],
      "text/plain": [
       "        Country    Area  Storks  Humans  BirthRate  SuitableAreaPercent  \\\n",
       "0       Albania   28750     100     3.2         83                55.68   \n",
       "1       Austria   83860     300     7.6         87                38.34   \n",
       "2       Belgium   30520       1     9.9        118                65.93   \n",
       "3      Bulgaria  111000    5000     9.0        117                57.99   \n",
       "4       Denmark   43100       9     5.1         59                81.46   \n",
       "5        France  544000     140    56.0        774                58.47   \n",
       "6       Germany  357000    3300    78.0        901                59.81   \n",
       "7        Greece  132000    2500    10.0        106                47.31   \n",
       "8       Holland   41900       4    15.0        188                70.96   \n",
       "9       Hungary   93000    5000    11.0        124                75.86   \n",
       "10        Italy  301280       5    57.0        551                60.30   \n",
       "11       Poland  312680   30000    38.0        610                64.09   \n",
       "12     Portugal   92390    1500    10.0        120                52.51   \n",
       "13      Romania  237500    5000    23.0        367                62.49   \n",
       "14        Spain  504750    8000    39.0        439                59.57   \n",
       "15  Switzerland   41290     150     6.7         82                43.19   \n",
       "16       Turkey  779450   25000    56.0       1576                65.97   \n",
       "\n",
       "    Population_density  \n",
       "0               111.30  \n",
       "1                90.63  \n",
       "2               324.38  \n",
       "3                81.08  \n",
       "4               118.33  \n",
       "5               102.94  \n",
       "6               218.49  \n",
       "7                75.76  \n",
       "8               358.00  \n",
       "9               118.28  \n",
       "10              189.19  \n",
       "11              121.53  \n",
       "12              108.24  \n",
       "13               96.84  \n",
       "14               77.27  \n",
       "15              162.27  \n",
       "16               71.85  "
      ]
     },
     "execution_count": 30,
     "metadata": {},
     "output_type": "execute_result"
    }
   ],
   "source": [
    "df"
   ]
  },
  {
   "cell_type": "code",
   "execution_count": 31,
   "id": "e1a4a55a-d07f-4d5f-a900-91981c7be85a",
   "metadata": {},
   "outputs": [],
   "source": [
    "df_m2 = df.loc[:,('Population_density','SuitableAreaPercent','Storks')]"
   ]
  },
  {
   "cell_type": "code",
   "execution_count": 32,
   "id": "ad416b94-ef28-4ce3-827a-0249caac0675",
   "metadata": {},
   "outputs": [
    {
     "data": {
      "text/plain": [
       "<AxesSubplot:>"
      ]
     },
     "execution_count": 32,
     "metadata": {},
     "output_type": "execute_result"
    },
    {
     "data": {
      "image/png": "[encoded data removed]",
      "text/plain": [
       "<Figure size 576x360 with 2 Axes>"
      ]
     },
     "metadata": {
      "needs_background": "light"
     },
     "output_type": "display_data"
    }
   ],
   "source": [
    "#plotting the correlation coefficients using the heatmap\n",
    "fig,ax = plt.subplots(1,1, figsize=(8,5))\n",
    "\n",
    "sns.heatmap(df_m2.corr(), vmin=-1, vmax=1, cmap=sns.diverging_palette(20, 220, as_cmap=True), \n",
    "            annot=True, ax=ax, annot_kws={\"size\": 15})"
   ]
  },
  {
   "cell_type": "markdown",
   "id": "19fa3fb3-a853-4bf6-8492-fa2f6634fd76",
   "metadata": {},
   "source": [
    "### 2. Regression fit and residuals"
   ]
  },
  {
   "cell_type": "code",
   "execution_count": 33,
   "id": "e495eae0-ff6d-492b-8a83-2489cf1a70e5",
   "metadata": {},
   "outputs": [],
   "source": [
    "#splitting the dataset into predictors and target\n",
    "y_m2 = df_m2['Storks']\n",
    "X2 = np.column_stack((df_m2.Population_density,df_m2.SuitableAreaPercent))"
   ]
  },
  {
   "cell_type": "code",
   "execution_count": 34,
   "id": "94080517-4825-44a5-a055-3785e48abe61",
   "metadata": {},
   "outputs": [
    {
     "name": "stdout",
     "output_type": "stream",
     "text": [
      "The regression coefficients for density and area are -39.69818687419282,240.91891408543162\n",
      "The regression intercept for Model 2 is :  -3728.737727961785\n"
     ]
    }
   ],
   "source": [
    "#instantiating the model for the variables\n",
    "reg_m2 = LinearRegression().fit(X2,y_m2)\n",
    "beta_density, beta_area = reg_m2.coef_\n",
    "print(f\"The regression coefficients for density and area are {beta_density},{beta_area}\")\n",
    "print(\"The regression intercept for Model 2 is : \", format(reg_m2.intercept_))"
   ]
  },
  {
   "cell_type": "code",
   "execution_count": 35,
   "id": "17530659-dc42-47c9-8e14-8f7c2d85d046",
   "metadata": {},
   "outputs": [
    {
     "name": "stdout",
     "output_type": "stream",
     "text": [
      "The effect of increase in suitable breeding grounds for storks at maximum value 81.46 percent is an increase in number of stork pairs by 24091.89  per year\n",
      "The effect of increase in human population density at maximum value 358.0 per km^2 is a decrease in number of stork pairs by 3969.82  per year\n"
     ]
    }
   ],
   "source": [
    "#computing the effect of the predictor \n",
    "maxSuitable = df_m2.SuitableAreaPercent.max()\n",
    "maxdensity = df_m2.Population_density.max()\n",
    "print(f\"The effect of increase in suitable breeding grounds for storks at maximum value {maxSuitable} percent is an increase in number of stork pairs by {(reg_m2.coef_[1]* 100).round(2)}  per year\")\n",
    "print(f\"The effect of increase in human population density at maximum value {maxdensity} per km^2 is a decrease in number of stork pairs by {-1*(reg_m2.coef_[0] * 100).round(2)}  per year\")\n"
   ]
  },
  {
   "cell_type": "code",
   "execution_count": 36,
   "id": "6d8e5a99-b2f3-43aa-8e87-d438353a20b3",
   "metadata": {},
   "outputs": [
    {
     "data": {
      "text/plain": [
       "Text(0, 0.5, 'Actual Value')"
      ]
     },
     "execution_count": 36,
     "metadata": {},
     "output_type": "execute_result"
    },
    {
     "data": {
      "image/png": "[encoded data removed]",
      "text/plain": [
       "<Figure size 1080x720 with 1 Axes>"
      ]
     },
     "metadata": {
      "needs_background": "light"
     },
     "output_type": "display_data"
    }
   ],
   "source": [
    "y_pred_m2 = reg_m2.predict(X2)\n",
    "residuals_m2 = y_pred_m2 - y_m2\n",
    "\n",
    "fig, a = plt.subplots(1,1,figsize=(15,10))\n",
    "a.scatter(y_pred_m2, y_m2,  color='black')\n",
    "a.plot(y_pred_m2, y_pred_m2, color='blue', linewidth=3)\n",
    "\n",
    "\n",
    "two_std = residuals_m2.std() * 2\n",
    "a.errorbar(y_pred_m2, y_m2, yerr=two_std, fmt='.k')\n",
    "\n",
    "a.set_xlabel('Predicted Value')\n",
    "a.set_ylabel('Actual Value')"
   ]
  },
  {
   "cell_type": "markdown",
   "id": "e1abadf4-8f8f-403b-9816-75d437fa15e7",
   "metadata": {},
   "source": [
    "### 3. Root Mean Squared Error"
   ]
  },
  {
   "cell_type": "code",
   "execution_count": 37,
   "id": "5858eb0f-6d34-4041-81e0-7016cb216a61",
   "metadata": {},
   "outputs": [
    {
     "name": "stdout",
     "output_type": "stream",
     "text": [
      "The RMSE for model 2 with predictors Population density and suitable area percentage : 7800.968241181438\n"
     ]
    }
   ],
   "source": [
    "mse_m2 = mean_squared_error(y_m2,y_pred_m2)\n",
    "rmse_m2 = np.sqrt(mse_m2)\n",
    "print(f\"The RMSE for model 2 with predictors Population density and suitable area percentage : {rmse_m2}\")"
   ]
  },
  {
   "cell_type": "markdown",
   "id": "533f3a57-155b-499b-83bd-851d6dbcf25c",
   "metadata": {},
   "source": [
    "**Discussion** \n",
    "\n",
    "- Model 2 consists of predictors - population density and suitable area percentage. \n",
    "- The effect of the 2 predictors on the target variable Storks is conflicting. The increase in the number of suitable area percentage for storks predicts an increase in the number of pairs of storks whereas the increase in population density results in a decrease. \n",
    "- As discussed earlier, the RMSE is influenced by variance in residuals. The larger the error, the higher we obtain the RMSE.\n",
    "- In comparison to model 1 in Analysis 2A, model 2 generates higher RMSE by 11%. \n",
    "- This gives rise to a question if the model does not fit the data in reality. "
   ]
  },
  {
   "cell_type": "markdown",
   "id": "58aef1f5-0b13-4a6c-8668-02db810109e2",
   "metadata": {},
   "source": [
    "## Analysis 2B"
   ]
  },
  {
   "cell_type": "markdown",
   "id": "77b3f74f-9681-4041-817e-7cbca7dd9a0a",
   "metadata": {},
   "source": [
    "This analysis aims to resample the dataset using bootstrap technique similar to Analysis 1B but the bootstrapping metric is chosen as the RMSE of model 1 and model 2. \n",
    "\n",
    "We aim to estimate the difference in RMSE between the 2 models by passing the regression models to the bootstrap function as arguments. "
   ]
  },
  {
   "cell_type": "markdown",
   "id": "54fb71da-e02c-4bc9-b83b-d8046388ef58",
   "metadata": {},
   "source": [
    "### 1. Regression function definiton"
   ]
  },
  {
   "cell_type": "code",
   "execution_count": 38,
   "id": "e251841e-9ccc-4b67-9994-b52981625d06",
   "metadata": {},
   "outputs": [],
   "source": [
    "#defining a function to compute the regression and returning the difference in RMSE of the 2 models. \n",
    "def doRegression_rmse(df):\n",
    "    y = df.Storks\n",
    "    X1 = np.array(df.Area).reshape(-1,1)\n",
    "    X2 = np.column_stack((df.Population_density,df.SuitableAreaPercent))    \n",
    "    reg1 = LinearRegression().fit(X1,y)\n",
    "    reg2 = LinearRegression().fit(X2,y)\n",
    "    \n",
    "    y_pred1 = reg1.predict(X1)\n",
    "    y_pred2 = reg2.predict(X2)\n",
    "    \n",
    "    rmse_1 = np.sqrt(mse(y,y_pred1))\n",
    "    rmse_2 = np.sqrt(mse(y,y_pred2))\n",
    "                     \n",
    "    \n",
    "    return [rmse_2 - rmse_1]"
   ]
  },
  {
   "cell_type": "code",
   "execution_count": 39,
   "id": "b80b58fc-7b5a-4d7e-93cf-bbcaac590e86",
   "metadata": {},
   "outputs": [],
   "source": [
    "#Using bootstrap function from Analysis 1B\n",
    "#creating a separate pandas dataframe for the bootstrapped RMSE difference\n",
    "bstrap_rmse = bootstrapC(df, ['RMSE_diff'], 1000, doRegression_rmse)\n"
   ]
  },
  {
   "cell_type": "markdown",
   "id": "b1a0eb07-172b-47ca-b7e2-e32affe04d5b",
   "metadata": {},
   "source": [
    "### 2. Plotting RMSE difference"
   ]
  },
  {
   "cell_type": "code",
   "execution_count": 40,
   "id": "51eb0e26-d468-45b4-ac3e-c0f94fd1b01c",
   "metadata": {},
   "outputs": [
    {
     "data": {
      "text/plain": [
       "<matplotlib.lines.Line2D at 0x7fb1fbe5d220>"
      ]
     },
     "execution_count": 40,
     "metadata": {},
     "output_type": "execute_result"
    },
    {
     "data": {
      "image/png": "[encoded data removed]",
      "text/plain": [
       "<Figure size 432x288 with 1 Axes>"
      ]
     },
     "metadata": {
      "needs_background": "light"
     },
     "output_type": "display_data"
    }
   ],
   "source": [
    "sns.kdeplot(bstrap_rmse['RMSE_diff'], label = 'RMSE difference', alpha = 0.3, shade = True)\n",
    "plt.axvline(bstrap_rmse['RMSE_diff'].mean(),color = 'k', linestyle = 'solid', linewidth = 1)\n",
    "\n",
    "\n"
   ]
  },
  {
   "cell_type": "markdown",
   "id": "cd7f4590-0a5b-4b8f-b14e-65be7de3a9b7",
   "metadata": {},
   "source": [
    "### 3. Estimating confidence intervals "
   ]
  },
  {
   "cell_type": "code",
   "execution_count": 41,
   "id": "3cca1572-10f2-44dd-a98f-afbf2c456d69",
   "metadata": {},
   "outputs": [
    {
     "name": "stdout",
     "output_type": "stream",
     "text": [
      "The average difference between the RMSE for model 1 and model 2 is 718.59 with 90 percent CI from -969.99 to 2962.71 \n"
     ]
    }
   ],
   "source": [
    "print(\"The average difference between the RMSE for model 1 and model 2 is %3.2f with 90 percent CI from %3.2f to %3.2f \" % \n",
    "      (bstrap_rmse['RMSE_diff'].mean(), bstrap_rmse.quantile(0.05),bstrap_rmse.quantile(0.95)))\n"
   ]
  },
  {
   "cell_type": "code",
   "execution_count": 42,
   "id": "a4b7b3c7-e5d4-4f60-a315-14fa00589574",
   "metadata": {},
   "outputs": [
    {
     "data": {
      "text/plain": [
       "True     704\n",
       "False    296\n",
       "Name: RMSE_diff, dtype: int64"
      ]
     },
     "execution_count": 42,
     "metadata": {},
     "output_type": "execute_result"
    }
   ],
   "source": [
    "(bstrap_rmse['RMSE_diff']>0).value_counts()"
   ]
  },
  {
   "cell_type": "markdown",
   "id": "4a2009fb-902e-4704-b07d-afc99baf2c08",
   "metadata": {},
   "source": [
    "- The RMSE difference distribution almost exhibits a normal curve unlike the bimodal distribution in Analysis for R^2 coefficient.\n",
    "- The average difference in RMSE between the 2 models is 718.59. \n",
    "- The 90% confidence interval depicts that the difference values within this confidence interval range from -969.99 to 2962.71. \n",
    "- Just as the initial results for the RMSE of model 2 were higher than the RMSE for model 1, the bootstrap sampling for the difference in RMSE shows that although model 2 has a lower residual variance than model 1, the samples with a negative RMSE value in the distribution constitute to about 30% of the entire sample dataset. \n",
    "- Although ideally we would choose model 1 over model 2, both the models do not exhibit favourable characteristics. \n",
    "- As far as the model that explains better variability is concerned, model 1 does so. "
   ]
  },
  {
   "cell_type": "markdown",
   "id": "bf64897f-0b2b-4d82-85fb-06f4c0c2a63a",
   "metadata": {},
   "source": [
    "## Summary\n",
    "\n",
    "The objective of the analysis was to investigate the relationships amongst the variables from the storks-babies dataset. The predictor variable for each analysis where changed according to the objective - to analyse the relationship for the birth rate in Analysis 1 and the number of stork pairs in Analysis 2. \n",
    "\n",
    "We further went to compute the coefficient of determination for the 2 models in Analysis 1, subsequently using the bootstrap sampling technique to reduce the uncertainty in our result. \n",
    "\n",
    "- The correlation relationship between the number of storks to the birth rate was positive. However, this did not pave way to proving that the regression model could explain the variability in the dataset. The model was only able to explain about 38.5% of the data. \n",
    "- The correlation relationship between the number of humans to birth rate was subsequently higher than those of storks, while also proving that this model explains the data better with a variability of 72.5%. \n",
    "- The bootstrapped sampling of the 2 models provided us with a bimodal distribution for R^2. The bimodality of the distribution could prove that the data consists of 2 groups of values with its own underlying condition.\n",
    "- The Confidence interval of 95% (which is much more suitable for bimodal distribution) displays an R^2 difference between the 2 models \n",
    "\n",
    "\n",
    "- Analysis 2 displayed an analysis between the rest of the variables and the number of storks. \n",
    "- The correlation relationship between the number of storks was surprisingly lower than that of storks vs birth rate. This may have been with respect to underlying factors we may not be aware of through this limited data. \n",
    "- The regression fit for Model 1 does not display an ideal fit as it does generate an RMSE of approx. 6800.767. \n",
    "- Model 2 uses a new variable - 'Population density' as one of the 2 predictors, the other being Suitable area percentage for storks. This model does not garner much of a favourable result as much as the former. The correlation amongst the variables were weak although slightly positive. \n",
    "- Much to its obvious trajectory, the RMSE for Model 2 was higher than that of 1. \n",
    "- By bootstrapping the 2 models to compute the RMSE distribution, we could prove its performance. Hence model 1 explaining a better variability than model 2 (if not the best). "
   ]
  }
 ],
 "metadata": {
  "kernelspec": {
   "display_name": "base",
   "language": "python",
   "name": "python3"
  },
  "language_info": {
   "codemirror_mode": {
    "name": "ipython",
    "version": 3
   },
   "file_extension": ".py",
   "mimetype": "text/x-python",
   "name": "python",
   "nbconvert_exporter": "python",
   "pygments_lexer": "ipython3",
   "version": "3.9.12 (main, Apr  5 2022, 01:53:17) \n[Clang 12.0.0 ]"
  },
  "vscode": {
   "interpreter": {
    "hash": "40d3a090f54c6569ab1632332b64b2c03c39dcf918b08424e98f38b5ae0af88f"
   }
  }
 },
 "nbformat": 4,
 "nbformat_minor": 5
}
